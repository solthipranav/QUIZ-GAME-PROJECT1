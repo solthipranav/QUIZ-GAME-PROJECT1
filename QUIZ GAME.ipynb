{
 "cells": [
  {
   "cell_type": "code",
   "execution_count": 11,
   "id": "eb64e555-3703-4d06-8bc2-982a17f4af86",
   "metadata": {},
   "outputs": [
    {
     "name": "stdout",
     "output_type": "stream",
     "text": [
      "**************\n",
      "Welcome to the quiz game!\n",
      "************\n",
      "1. Who is the father of C language?\n",
      "A. Dennis Ritchie\n",
      "B. Robert\n",
      "C. Einstein\n",
      "D. Charles Babbage\n"
     ]
    },
    {
     "name": "stdin",
     "output_type": "stream",
     "text": [
      "Enter your answer (A/B/C/D):  A\n"
     ]
    },
    {
     "name": "stdout",
     "output_type": "stream",
     "text": [
      "Correct\n",
      "Your score is: 1/1\n",
      "************\n",
      "2. Who invented the first computer in the world?\n",
      "A. Dennis Ritchie\n",
      "B. Robert\n",
      "C. Einstein\n",
      "D. Charles Babbage\n"
     ]
    },
    {
     "name": "stdin",
     "output_type": "stream",
     "text": [
      "Enter your answer (A/B/C/D):  B\n"
     ]
    },
    {
     "name": "stdout",
     "output_type": "stream",
     "text": [
      "Incorrect\n",
      "The correct answer is: D\n",
      "Your score is: 1/2\n",
      "************\n",
      "3. Which one of the followings is a programming language?\n",
      "A. HTTP\n",
      "B. HTML\n",
      "C. HPML\n",
      "D. FTP\n"
     ]
    },
    {
     "name": "stdin",
     "output_type": "stream",
     "text": [
      "Enter your answer (A/B/C/D):  A\n"
     ]
    },
    {
     "name": "stdout",
     "output_type": "stream",
     "text": [
      "Incorrect\n",
      "The correct answer is: B\n",
      "Your score is: 1/3\n",
      "************\n",
      "4. Who is also known as the father of Indian supercomputing?\n",
      "A. RAGUNATH\n",
      "B. NANDAN\n",
      "C. JAYANT NARLIKAR\n",
      "D. VIJAY BHATKAR\n"
     ]
    },
    {
     "name": "stdin",
     "output_type": "stream",
     "text": [
      "Enter your answer (A/B/C/D):  C\n"
     ]
    },
    {
     "name": "stdout",
     "output_type": "stream",
     "text": [
      "Incorrect\n",
      "The correct answer is: D\n",
      "Your score is: 1/4\n",
      "************\n",
      "5. Which protocol is used to send e-mail?\n",
      "A. HTTP\n",
      "B. HTML\n",
      "C. SMTP\n",
      "D. FTP\n"
     ]
    },
    {
     "name": "stdin",
     "output_type": "stream",
     "text": [
      "Enter your answer (A/B/C/D):  C\n"
     ]
    },
    {
     "name": "stdout",
     "output_type": "stream",
     "text": [
      "Correct\n",
      "Your score is: 2/5\n",
      "Final score is 2\n",
      "Score is 40.0%\n"
     ]
    }
   ],
   "source": [
    "print(\"**************\")\n",
    "print(\"Welcome to the quiz game!\")\n",
    "\n",
    "question_bank = [\n",
    "    \"1. Who is the father of C language?\",\n",
    "    \"2. Who invented the first computer in the world?\",\n",
    "    \"3. Which one of the followings is a programming language?\",\n",
    "    \"4. Who is also known as the father of Indian supercomputing?\",\n",
    "    \"5. Which protocol is used to send e-mail?\"\n",
    "]\n",
    "answers = [\"A\", \"D\", \"B\", \"D\", \"C\"]\n",
    "options = [\n",
    "    [\"A. Dennis Ritchie\", \"B. Robert\", \"C. Einstein\", \"D. Charles Babbage\"],\n",
    "    [\"A. Dennis Ritchie\", \"B. Robert\", \"C. Einstein\", \"D. Charles Babbage\"],\n",
    "    [\"A. HTTP\", \"B. HTML\", \"C. HPML\", \"D. FTP\"],\n",
    "    [\"A. RAGUNATH\", \"B. NANDAN\", \"C. JAYANT NARLIKAR\", \"D. VIJAY BHATKAR\"],\n",
    "    [\"A. HTTP\", \"B. HTML\", \"C. SMTP\", \"D. FTP\"]\n",
    "]\n",
    "\n",
    "score = 0\n",
    "question_num = 0\n",
    "\n",
    "for each_question in question_bank:\n",
    "    print(\"************\")\n",
    "    print(each_question)\n",
    "    for option in options[question_num]:\n",
    "        print(option)\n",
    "    guess = input(\"Enter your answer (A/B/C/D): \").upper()\n",
    "    if guess == answers[question_num]:\n",
    "        print(\"Correct\")\n",
    "        score += 1\n",
    "    else:\n",
    "        print(\"Incorrect\")\n",
    "        print(f\"The correct answer is: {answers[question_num]}\")\n",
    "    question_num += 1\n",
    "    print(f\"Your score is: {score}/{question_num}\")\n",
    "\n",
    "print(f\"Final score is {score}\")\n",
    "print(f\"Score is {(score / len(question_bank)) * 100}%\")\n",
    "\n",
    "            "
   ]
  },
  {
   "cell_type": "code",
   "execution_count": null,
   "id": "0e679520-9eb8-4635-9142-3c57e430d270",
   "metadata": {},
   "outputs": [],
   "source": []
  }
 ],
 "metadata": {
  "kernelspec": {
   "display_name": "Python 3 (ipykernel)",
   "language": "python",
   "name": "python3"
  },
  "language_info": {
   "codemirror_mode": {
    "name": "ipython",
    "version": 3
   },
   "file_extension": ".py",
   "mimetype": "text/x-python",
   "name": "python",
   "nbconvert_exporter": "python",
   "pygments_lexer": "ipython3",
   "version": "3.12.4"
  }
 },
 "nbformat": 4,
 "nbformat_minor": 5
}
